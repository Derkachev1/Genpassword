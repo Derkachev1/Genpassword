{
 "cells": [
  {
   "cell_type": "code",
   "execution_count": 10,
   "metadata": {},
   "outputs": [
    {
     "name": "stdout",
     "output_type": "stream",
     "text": [
      "False\n"
     ]
    }
   ],
   "source": [
    "h = input()\n",
    "h = h.lower()\n",
    "u = (h[::-1])\n",
    "if h == \"\":\n",
    "    print(False)\n",
    "else:   \n",
    "    if h == u:\n",
    "        print(True)\n",
    "    else:\n",
    "        print(False)"
   ]
  },
  {
   "cell_type": "code",
   "execution_count": 26,
   "metadata": {},
   "outputs": [
    {
     "name": "stdout",
     "output_type": "stream",
     "text": [
      "0\n"
     ]
    }
   ],
   "source": [
    "a = input(\"1\")\n",
    "a = int(a)\n",
    "b = input(\"Что делать: 1 - *, 2 - /, 3 - +, 4 - (-)\")\n",
    "b = int(b)\n",
    "c = input(\"2\")\n",
    "c = int(c)\n",
    "if b == 1:\n",
    "    y = a*c\n",
    "    print(y)\n",
    "if b == 2:\n",
    "    y = a/c\n",
    "    print(y)\n",
    "if b == 3:\n",
    "    y = a+c\n",
    "    print(y)\n",
    "if b == 4:\n",
    "    y = a-c\n",
    "    print(y)"
   ]
  },
  {
   "cell_type": "code",
   "execution_count": 33,
   "metadata": {},
   "outputs": [
    {
     "name": "stdout",
     "output_type": "stream",
     "text": [
      "True\n"
     ]
    }
   ],
   "source": [
    "str1 = \"\"\n",
    "str2 = \"\"\n",
    "li = []\n",
    "lis = []\n",
    "for i in str1:\n",
    "    li.append(i)\n",
    "    li.sort()\n",
    "for t in str2:\n",
    "    lis.append(t)\n",
    "    lis.sort()\n",
    "if li == lis:\n",
    "    print(True)\n",
    "else:\n",
    "    print(False)\n"
   ]
  },
  {
   "cell_type": "code",
   "execution_count": 43,
   "metadata": {},
   "outputs": [
    {
     "name": "stdout",
     "output_type": "stream",
     "text": [
      "{'hello': 2, 'world': 1, 'this': 1, 'is': 1, 'a': 2, 'test': 2, 'simple': 1}\n"
     ]
    }
   ],
   "source": [
    "text = \"Hello, hello world! This is a test. A simple test\"\n",
    "text = text.lower()\n",
    "spec = \".,!?;:<>\"\n",
    "for i in spec:\n",
    "    text = text.replace(i, \"\")\n",
    "lio = text.split()\n",
    "di ={}\n",
    "for p in lio:\n",
    "    if p in di:\n",
    "        di[p] += 1\n",
    "    else:\n",
    "        di[p] = 1\n",
    "print(di)\n"
   ]
  },
  {
   "cell_type": "code",
   "execution_count": 54,
   "metadata": {},
   "outputs": [
    {
     "name": "stdout",
     "output_type": "stream",
     "text": [
      "['1>№^SСNBдtestteryey', '2.%>ЧNПЩшtestteryey', '7:;:CUUЧatestteryey', '1@!$ФYUWbtestteryey', '0=:№ЭKЗЮкtestteryey', '7!``ЗOБЫxtestteryey', '9||;ВЛНQctestteryey', '0%~|УУXКпtestteryey', '7?=<KБШHлtestteryey', '5-&%ЯFPFаtestteryey', '2#;?PNRЙgtestteryey', '0^+|МЩЮЩutestteryey', '6.*~BОUJцtestteryey']\n"
     ]
    }
   ],
   "source": [
    "import random\n",
    "col_par = input(\"Введите количество паролей:\")\n",
    "col_par = int(col_par)\n",
    "length = input(\"Введите длину паролей:\")\n",
    "length = int(length)\n",
    "spec = input(\"Введите количество специальных символов:\")\n",
    "spec = int(spec)\n",
    "verx_reg = input(\"Введите количество заглавных букв:\")\n",
    "verx_reg = int(verx_reg)\n",
    "nig_reg = input(\"Введите количество прописных букв:\")\n",
    "nig_reg = int(nig_reg)\n",
    "number = input(\"Введите количество чисел:\")\n",
    "number = int(number)\n",
    "slovo = input(\"Введите ваше кодовое слово:\")\n",
    "count = 0\n",
    "listt = []\n",
    "р = \"🍺\"\n",
    "while count<=length:\n",
    "    a=random.choices(\"1234567890\", k=number)\n",
    "    a1 = \"\".join(a)\n",
    "    b=random.choices(\"`~!@#$%^&*_+=-№;:?|<>.\", k=spec)\n",
    "    b1 = \"\".join(b)\n",
    "    c=random.choices(\"QWERTYUIOPLKJHGFDSAZXCVBNMЁЙЦУКЕНГШЩЗХЪЭЖДЛОРПАВЫФЯЧСМИТЬБЮ\", k=verx_reg)\n",
    "    c1 = \"\".join(c)\n",
    "    d=random.choices(\"qwertyuioplkjhgfdsazxcvbnmёйцукенгшщзхъэждлорпавыфячсмитьбю\", k=nig_reg)\n",
    "    d1 = \"\".join(d)\n",
    "    password = a1+b1+c1+d1+p+slovo\n",
    "    count += 1\n",
    "    listt.append(password)\n",
    "  #  print(a)\n",
    "  #  print(b)\n",
    "   # print(c)\n",
    "   # print(d)\n",
    "  #  print(p)\n",
    "  #  print(slovo)\n",
    "print(listt)"
   ]
  },
  {
   "cell_type": "code",
   "execution_count": 51,
   "metadata": {},
   "outputs": [
    {
     "name": "stdout",
     "output_type": "stream",
     "text": [
      "test\n"
     ]
    }
   ],
   "source": [
    "р = \"🍺\"\n",
    "print(p)"
   ]
  }
 ],
 "metadata": {
  "kernelspec": {
   "display_name": "Python 3",
   "language": "python",
   "name": "python3"
  },
  "language_info": {
   "codemirror_mode": {
    "name": "ipython",
    "version": 3
   },
   "file_extension": ".py",
   "mimetype": "text/x-python",
   "name": "python",
   "nbconvert_exporter": "python",
   "pygments_lexer": "ipython3",
   "version": "3.12.4"
  }
 },
 "nbformat": 4,
 "nbformat_minor": 2
}
