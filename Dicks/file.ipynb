{
 "cells": [
  {
   "cell_type": "code",
   "execution_count": 6,
   "metadata": {},
   "outputs": [
    {
     "name": "stdout",
     "output_type": "stream",
     "text": [
      "<_io.TextIOWrapper name='test' mode='r' encoding='cp1251'>\n",
      "<_io.TextIOWrapper name='test' mode='r' encoding='cp1251'>\n"
     ]
    }
   ],
   "source": [
    "\n"
   ]
  },
  {
   "cell_type": "code",
   "execution_count": 11,
   "metadata": {},
   "outputs": [
    {
     "name": "stdout",
     "output_type": "stream",
     "text": [
      "Tarkov v jopy\n",
      "Huh emy v rot\n"
     ]
    }
   ],
   "source": [
    "file = open('test.txt', 'r')\n",
    "content = file.read()\n",
    "print(content)\n",
    "file.close()"
   ]
  },
  {
   "cell_type": "code",
   "execution_count": 14,
   "metadata": {},
   "outputs": [
    {
     "name": "stdout",
     "output_type": "stream",
     "text": [
      "Tarkov v jopy\n",
      "Huh emy v rot"
     ]
    }
   ],
   "source": [
    "file = open(\"test.txt\", \"r\")\n",
    "for i in file:\n",
    "    print(i, end=\"\")\n",
    "file.close()"
   ]
  },
  {
   "cell_type": "code",
   "execution_count": 17,
   "metadata": {},
   "outputs": [],
   "source": [
    "file = open(\"test.txt\", \"w\")\n",
    "file.write (\"Git\\n\")\n",
    "file.write (\"yu\\n\")\n",
    "file.close()"
   ]
  },
  {
   "cell_type": "code",
   "execution_count": 18,
   "metadata": {},
   "outputs": [],
   "source": [
    "file = open(\"test.txt\", \"a\")\n",
    "file.write (\"hui\")\n",
    "file.close()"
   ]
  },
  {
   "cell_type": "code",
   "execution_count": 19,
   "metadata": {},
   "outputs": [
    {
     "name": "stdout",
     "output_type": "stream",
     "text": [
      "Git\n",
      "yu\n",
      "hui\n"
     ]
    }
   ],
   "source": [
    "with open(\"test.txt\", \"r\") as file:\n",
    "    content = file.read()\n",
    "    print(content)"
   ]
  },
  {
   "cell_type": "code",
   "execution_count": 37,
   "metadata": {},
   "outputs": [
    {
     "ename": "TypeError",
     "evalue": "'int' object is not callable",
     "output_type": "error",
     "traceback": [
      "\u001b[1;31m---------------------------------------------------------------------------\u001b[0m",
      "\u001b[1;31mTypeError\u001b[0m                                 Traceback (most recent call last)",
      "Cell \u001b[1;32mIn[37], line 4\u001b[0m\n\u001b[0;32m      2\u001b[0m file1 \u001b[38;5;241m=\u001b[39m \u001b[38;5;28minput\u001b[39m\u001b[38;5;241m.\u001b[39mread()\n\u001b[0;32m      3\u001b[0m ler \u001b[38;5;241m=\u001b[39m file1\u001b[38;5;241m.\u001b[39msplit()\n\u001b[1;32m----> 4\u001b[0m \u001b[38;5;28mlen\u001b[39m \u001b[38;5;241m=\u001b[39m \u001b[38;5;28;43mlen\u001b[39;49m\u001b[43m(\u001b[49m\u001b[43mler\u001b[49m\u001b[43m)\u001b[49m\n\u001b[0;32m      5\u001b[0m result \u001b[38;5;241m=\u001b[39m file1\u001b[38;5;241m.\u001b[39mreplace(\u001b[38;5;124m\"\u001b[39m\u001b[38;5;124mold\u001b[39m\u001b[38;5;124m\"\u001b[39m, \u001b[38;5;124m\"\u001b[39m\u001b[38;5;124mnew\u001b[39m\u001b[38;5;124m\"\u001b[39m)\n\u001b[0;32m      6\u001b[0m updated \u001b[38;5;241m=\u001b[39m \u001b[38;5;28mopen\u001b[39m(\u001b[38;5;124m\"\u001b[39m\u001b[38;5;124mupdated.txt\u001b[39m\u001b[38;5;124m\"\u001b[39m, \u001b[38;5;124m\"\u001b[39m\u001b[38;5;124mw\u001b[39m\u001b[38;5;124m\"\u001b[39m)\n",
      "\u001b[1;31mTypeError\u001b[0m: 'int' object is not callable"
     ]
    }
   ],
   "source": [
    "input = open(\"input.txt\", \"r\")\n",
    "file1 = input.read()\n",
    "ler = file1.split()\n",
    "#len = len(ler)\n",
    "result = file1.replace(\"old\", \"new\")\n",
    "updated = open(\"updated.txt\", \"w\")\n",
    "updated.write (result)\n",
    "updated.close()\n",
    "print(len)"
   ]
  },
  {
   "cell_type": "code",
   "execution_count": 40,
   "metadata": {},
   "outputs": [
    {
     "ename": "TypeError",
     "evalue": "'int' object is not callable",
     "output_type": "error",
     "traceback": [
      "\u001b[1;31m---------------------------------------------------------------------------\u001b[0m",
      "\u001b[1;31mTypeError\u001b[0m                                 Traceback (most recent call last)",
      "Cell \u001b[1;32mIn[40], line 4\u001b[0m\n\u001b[0;32m      2\u001b[0m file1 \u001b[38;5;241m=\u001b[39m \u001b[38;5;28minput\u001b[39m\u001b[38;5;241m.\u001b[39mread()\n\u001b[0;32m      3\u001b[0m ler \u001b[38;5;241m=\u001b[39m file1\u001b[38;5;241m.\u001b[39msplit()\n\u001b[1;32m----> 4\u001b[0m \u001b[38;5;28mlen\u001b[39m \u001b[38;5;241m=\u001b[39m \u001b[38;5;28;43mlen\u001b[39;49m\u001b[43m(\u001b[49m\u001b[43mler\u001b[49m\u001b[43m)\u001b[49m\n\u001b[0;32m      5\u001b[0m \u001b[38;5;28minput\u001b[39m\u001b[38;5;241m.\u001b[39mclose()\n\u001b[0;32m      6\u001b[0m \u001b[38;5;28mprint\u001b[39m(\u001b[38;5;28mlen\u001b[39m)\n",
      "\u001b[1;31mTypeError\u001b[0m: 'int' object is not callable"
     ]
    }
   ],
   "source": [
    "input = open(\"input.txt\", \"r\")\n",
    "file1 = input.read()\n",
    "ler = file1.split()\n",
    "#len = len(ler)\n",
    "input.close()\n",
    "print(len)"
   ]
  },
  {
   "cell_type": "code",
   "execution_count": 3,
   "metadata": {},
   "outputs": [
    {
     "name": "stderr",
     "output_type": "stream",
     "text": [
      "<>:7: SyntaxWarning: invalid escape sequence '\\P'\n",
      "<>:7: SyntaxWarning: invalid escape sequence '\\P'\n",
      "C:\\Users\\derka\\AppData\\Local\\Temp\\ipykernel_2652\\1726137158.py:7: SyntaxWarning: invalid escape sequence '\\P'\n",
      "  file = open(\"D:\\Prog\\Dicks\\passwords.txt\", \"a\")\n"
     ]
    }
   ],
   "source": [
    "tyu = [\"ert\", \"ertrytuy\", \"gdfg\", \"eghgfhj\", \"ghj\"]\n",
    "io = []\n",
    "for i in tyu:\n",
    "    if len(i)>5:\n",
    "        io.append(i)\n",
    "result = \" \".join(io)\n",
    "file = open(\"D:\\Prog\\Dicks\\passwords.txt\", \"a\")\n",
    "file.write (result)\n",
    "file.close()"
   ]
  },
  {
   "cell_type": "code",
   "execution_count": 9,
   "metadata": {},
   "outputs": [
    {
     "name": "stdout",
     "output_type": "stream",
     "text": [
      "['For', 'almost', 'any', 'person,', 'there', 'is', 'nothing', 'more', 'important', 'in', 'the', 'world', 'than', 'their', 'family.', 'I', 'love', 'my', 'family', 'too.', 'Today', 'I', 'would', 'like', 'to', 'tell', 'you', 'about', 'them.', 'My', 'family', 'is', 'quite', 'big.', 'It', 'consists', 'of', 'my', 'mother,', 'father,', 'my', 'three', 'siblings', 'and', 'our', 'cat', 'Bob.', 'Well,', 'most', 'people', 'would', 'say', 'that', 'a', 'pet', 'is', 'not', 'a', 'family', 'member', 'but', 'no', 'one', 'in', 'our', 'family', 'would', 'agree', 'with', 'that.', 'We', 'all', 'love', 'Bob', 'and', 'consider', 'him', 'a', 'family', 'member.']\n",
      "important\n"
     ]
    },
    {
     "name": "stderr",
     "output_type": "stream",
     "text": [
      "<>:1: SyntaxWarning: invalid escape sequence '\\P'\n",
      "<>:1: SyntaxWarning: invalid escape sequence '\\P'\n",
      "C:\\Users\\derka\\AppData\\Local\\Temp\\ipykernel_2652\\1597178984.py:1: SyntaxWarning: invalid escape sequence '\\P'\n",
      "  file = open(\"D:\\Prog\\Dicks\\dext.txt\", \"r\")\n"
     ]
    }
   ],
   "source": [
    "file = open(\"D:\\Prog\\Dicks\\dext.txt\", \"r\")\n",
    "content = file.read()\n",
    "result1 = content.split()\n",
    "print(result1)\n",
    "for o in result1:\n",
    "    le = len(t)\n",
    "    if len(o)>le:\n",
    "        t = o\n",
    "print(t)"
   ]
  }
 ],
 "metadata": {
  "kernelspec": {
   "display_name": "Python 3",
   "language": "python",
   "name": "python3"
  },
  "language_info": {
   "codemirror_mode": {
    "name": "ipython",
    "version": 3
   },
   "file_extension": ".py",
   "mimetype": "text/x-python",
   "name": "python",
   "nbconvert_exporter": "python",
   "pygments_lexer": "ipython3",
   "version": "3.12.4"
  }
 },
 "nbformat": 4,
 "nbformat_minor": 2
}
