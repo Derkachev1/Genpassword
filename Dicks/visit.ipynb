{
 "cells": [
  {
   "cell_type": "code",
   "execution_count": 7,
   "metadata": {},
   "outputs": [
    {
     "name": "stdout",
     "output_type": "stream",
     "text": [
      "Вы проиграли\n"
     ]
    }
   ],
   "source": [
    "slovo = input(\"Введите ваше слово\")\n",
    "len_slovo = len(slovo)\n",
    "slovo_up = slovo.upper()\n",
    "count = 0\n",
    "count_error = 0\n",
    "while count_error < 6 or count == len_slovo:\n",
    "    letter = input(\"Ввведите букву\")\n",
    "    letter_up = letter.upper()\n",
    "    if letter_up in slovo:\n",
    "        count += 1\n",
    "    else:\n",
    "        count_error += 1\n",
    "if count_error == 6:\n",
    "    print(\"Вы проиграли\")\n",
    "if count == len_slovo:\n",
    "    print(\"Вы победили\")"
   ]
  },
  {
   "cell_type": "code",
   "execution_count": 3,
   "metadata": {},
   "outputs": [
    {
     "name": "stdout",
     "output_type": "stream",
     "text": [
      "\u0005\n"
     ]
    }
   ],
   "source": [
    "print(chr(5))"
   ]
  },
  {
   "cell_type": "code",
   "execution_count": 38,
   "metadata": {},
   "outputs": [
    {
     "name": "stdout",
     "output_type": "stream",
     "text": [
      "[1, 2, 3, 5, 10]\n"
     ]
    }
   ],
   "source": [
    "nums = [1,2,3,10,5]\n",
    "#if nums != []:\n",
    "nums.sort()\n",
    "print(nums)\n",
    "#elif nums==[]:\n",
    "   # print([])\n",
    "#elif nums==None:\n",
    "   # print([])"
   ]
  },
  {
   "cell_type": "code",
   "execution_count": 57,
   "metadata": {},
   "outputs": [
    {
     "name": "stdout",
     "output_type": "stream",
     "text": [
      "4\n"
     ]
    }
   ],
   "source": [
    "n = 10\n",
    "d = 1\n",
    "d = str(d)\n",
    "listt = []\n",
    "count_of_d = 0\n",
    "for i in range(0,n+1):\n",
    "    listt.append(i**2)\n",
    "result = (''.join(map(str, listt)))\n",
    "for l in result:\n",
    "    if d in l:\n",
    "        count_of_d += 1\n",
    "print(count_of_d)"
   ]
  },
  {
   "cell_type": "code",
   "execution_count": 59,
   "metadata": {},
   "outputs": [
    {
     "name": "stdout",
     "output_type": "stream",
     "text": [
      "['e', 'e', 'f', 'f', 'o', 't']\n",
      "['t', 't', 't', 't', 't', 't']\n",
      "False\n"
     ]
    }
   ],
   "source": [
    "test = \"foefet\"\n",
    "original = \"toffee\"\n",
    "test = test.lower()\n",
    "original = original.lower()\n",
    "list_test = []\n",
    "list_or = []\n",
    "for i in test:\n",
    "    list_test.append(i)\n",
    "for o in original:\n",
    "    list_or.append(i)\n",
    "list_test.sort()\n",
    "print(list_test)\n",
    "list_or.sort()\n",
    "print(list_or)\n",
    "if list_test == list_or:\n",
    "    print(True)\n",
    "else:\n",
    "    print(False)"
   ]
  }
 ],
 "metadata": {
  "kernelspec": {
   "display_name": "Python 3",
   "language": "python",
   "name": "python3"
  },
  "language_info": {
   "codemirror_mode": {
    "name": "ipython",
    "version": 3
   },
   "file_extension": ".py",
   "mimetype": "text/x-python",
   "name": "python",
   "nbconvert_exporter": "python",
   "pygments_lexer": "ipython3",
   "version": "3.12.4"
  }
 },
 "nbformat": 4,
 "nbformat_minor": 2
}
