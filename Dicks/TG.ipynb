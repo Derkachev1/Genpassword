{
 "cells": [
  {
   "cell_type": "code",
   "execution_count": 10,
   "metadata": {},
   "outputs": [
    {
     "name": "stdout",
     "output_type": "stream",
     "text": [
      "False\n"
     ]
    }
   ],
   "source": [
    "h = input()\n",
    "h = h.lower()\n",
    "u = (h[::-1])\n",
    "if h == \"\":\n",
    "    print(False)\n",
    "else:   \n",
    "    if h == u:\n",
    "        print(True)\n",
    "    else:\n",
    "        print(False)"
   ]
  },
  {
   "cell_type": "code",
   "execution_count": 26,
   "metadata": {},
   "outputs": [
    {
     "name": "stdout",
     "output_type": "stream",
     "text": [
      "0\n"
     ]
    }
   ],
   "source": [
    "a = input(\"1\")\n",
    "a = int(a)\n",
    "b = input(\"Что делать: 1 - *, 2 - /, 3 - +, 4 - (-)\")\n",
    "b = int(b)\n",
    "c = input(\"2\")\n",
    "c = int(c)\n",
    "if b == 1:\n",
    "    y = a*c\n",
    "    print(y)\n",
    "if b == 2:\n",
    "    y = a/c\n",
    "    print(y)\n",
    "if b == 3:\n",
    "    y = a+c\n",
    "    print(y)\n",
    "if b == 4:\n",
    "    y = a-c\n",
    "    print(y)"
   ]
  },
  {
   "cell_type": "code",
   "execution_count": 33,
   "metadata": {},
   "outputs": [
    {
     "name": "stdout",
     "output_type": "stream",
     "text": [
      "True\n"
     ]
    }
   ],
   "source": [
    "str1 = \"\"\n",
    "str2 = \"\"\n",
    "li = []\n",
    "lis = []\n",
    "for i in str1:\n",
    "    li.append(i)\n",
    "    li.sort()\n",
    "for t in str2:\n",
    "    lis.append(t)\n",
    "    lis.sort()\n",
    "if li == lis:\n",
    "    print(True)\n",
    "else:\n",
    "    print(False)\n"
   ]
  },
  {
   "cell_type": "code",
   "execution_count": 43,
   "metadata": {},
   "outputs": [
    {
     "name": "stdout",
     "output_type": "stream",
     "text": [
      "{'hello': 2, 'world': 1, 'this': 1, 'is': 1, 'a': 2, 'test': 2, 'simple': 1}\n"
     ]
    }
   ],
   "source": [
    "text = \"Hello, hello world! This is a test. A simple test\"\n",
    "text = text.lower()\n",
    "spec = \".,!?;:<>\"\n",
    "for i in spec:\n",
    "    text = text.replace(i, \"\")\n",
    "lio = text.split()\n",
    "di ={}\n",
    "for p in lio:\n",
    "    if p in di:\n",
    "        di[p] += 1\n",
    "    else:\n",
    "        di[p] = 1\n",
    "print(di)\n"
   ]
  },
  {
   "cell_type": "code",
   "execution_count": 1,
   "metadata": {},
   "outputs": [
    {
     "name": "stdout",
     "output_type": "stream",
     "text": [
      "Пароль 1: tyu🍺\n",
      "Пароль 2: 🍺tyu\n"
     ]
    }
   ],
   "source": [
    "import random\n",
    "col_par = input(\"Введите количество паролей:\")\n",
    "assert col_par.isdigit(), \"Ошибка: На вход принимается числовое значение количество паролей!\"\n",
    "\n",
    "length = input(\"Введите длину паролей:\")\n",
    "assert length.isdigit(), \"Ошибка: На вход принимается числовое значение длина паролей!\"\n",
    "\n",
    "spec = input(\"Введите количество специальных символов:\")\n",
    "assert spec.isdigit(), \"Ошибка: На вход принимается числовое значение количество специальных символов!\"\n",
    "\n",
    "verx_reg = input(\"Введите количество заглавных букв:\")\n",
    "assert verx_reg.isdigit(), \"Ошибка: На вход принимается числовое значение количество заглавных букв!\"\n",
    "\n",
    "nig_reg = input(\"Введите количество прописных букв:\")\n",
    "assert nig_reg.isdigit(), \"Ошибка: На вход принимается числовое значение количество прописных букв!\"\n",
    "\n",
    "number = input(\"Введите количество чисел:\")\n",
    "assert number.isdigit(), \"Ошибка: На вход принимается числовое значение количество чисел!\"\n",
    "\n",
    "slovo = input(\"Введите ваше кодовое слово:\")\n",
    "count = 1\n",
    "listt = []\n",
    "password = []\n",
    "p = \"🍺\"\n",
    "\n",
    "while count<=int(col_par):\n",
    "    a=random.choices(\"1234567890\", k=int(number))\n",
    "    len_a = len(a)\n",
    "    b=random.choices(\"`~!@#$%^&*_+=-№;:?|<>.\", k=int(spec))\n",
    "    len_b = len(b)\n",
    "    c=random.choices(\"QWERTYUIOPLKJHGFDSAZXCVBNMЁЙЦУКЕНГШЩЗХЪЭЖДЛОРПАВЫФЯЧСМИТЬБЮ\", k=int(verx_reg))\n",
    "    len_c = len(c)\n",
    "    d=random.choices(\"qwertyuioplkjhgfdsazxcvbnmёйцукенгшщзхъэждлорпавыфячсмитьбю\", k=int(nig_reg))\n",
    "    len_d = len(d)\n",
    "    len_slovo = len(slovo)\n",
    "\n",
    "    len_password = len_a + len_b + len_c + len_d + len_slovo + 1\n",
    "\n",
    "    if len_password == int(length):\n",
    "        for i in a:\n",
    "            password.append(i)\n",
    "        for y in b:\n",
    "            password.append(y)\n",
    "        for u in c:\n",
    "            password.append(u)\n",
    "        for o in d:\n",
    "            password.append(o)\n",
    "      \n",
    "    elif len_password > int(length):\n",
    "        for i in a:\n",
    "            password.append(i)\n",
    "        for y in b:\n",
    "            password.append(y)\n",
    "        for u in c:\n",
    "            password.append(u)\n",
    "        for o in d:\n",
    "            password.append(o)\n",
    "        random.shuffle(password)\n",
    "        gg = len_password - int(length) - len_slovo - 1\n",
    "        password1 = password[:gg]\n",
    "\n",
    "    elif len_password < int(length):\n",
    "        for i in a:\n",
    "            password.append(i)\n",
    "        for y in b:\n",
    "            password.append(y)\n",
    "        for u in c:\n",
    "            password.append(u)\n",
    "        for o in d:\n",
    "            password.append(o)\n",
    "\n",
    "        password += random.choice(\"1234567890`~!@#$%^&*_+=-№;:?|<>.\" +\n",
    "                                   \"QWERTYUIOPLKJHGFDSAZXCVBNMЁЙЦУКЕНГШЩЗХЪЭЖДЛОРПАВЫФЯЧСМИТЬБЮ\" +\n",
    "                                   \"qwertyuioplkjhgfdsazxcvbnmёйцукенгшщзхъэждлорпавыфячсмитьбю\")\n",
    "        password1 = password\n",
    "    password1.append(p)\n",
    "    password1.append(slovo)\n",
    "\n",
    "    random.shuffle(password1)\n",
    "    count += 1\n",
    "    passwordd = \"\".join(password1)\n",
    "    password1.clear()\n",
    "    listt.append(passwordd)\n",
    "for tt, pwd in enumerate(listt, start=1):\n",
    "    print(f\"Пароль {tt}: {pwd}\")"
   ]
  },
  {
   "cell_type": "code",
   "execution_count": 10,
   "metadata": {},
   "outputs": [
    {
     "name": "stderr",
     "output_type": "stream",
     "text": [
      "<>:41: SyntaxWarning: invalid escape sequence '\\P'\n",
      "<>:41: SyntaxWarning: invalid escape sequence '\\P'\n",
      "C:\\Users\\derka\\AppData\\Local\\Temp\\ipykernel_13380\\2762540395.py:41: SyntaxWarning: invalid escape sequence '\\P'\n",
      "  file = open(\"D:\\Prog\\Dicks\\passwords.txt\", \"a\")\n",
      "C:\\Users\\derka\\AppData\\Local\\Temp\\ipykernel_13380\\2762540395.py:41: SyntaxWarning: invalid escape sequence '\\P'\n",
      "  file = open(\"D:\\Prog\\Dicks\\passwords.txt\", \"a\")\n"
     ]
    },
    {
     "ename": "UnicodeEncodeError",
     "evalue": "'charmap' codec can't encode character '\\U0001f37a' in position 10: character maps to <undefined>",
     "output_type": "error",
     "traceback": [
      "\u001b[1;31m---------------------------------------------------------------------------\u001b[0m",
      "\u001b[1;31mUnicodeEncodeError\u001b[0m                        Traceback (most recent call last)",
      "Cell \u001b[1;32mIn[10], line 42\u001b[0m\n\u001b[0;32m     40\u001b[0m result_password1 \u001b[38;5;241m=\u001b[39m \u001b[38;5;124m\"\u001b[39m\u001b[38;5;124m \u001b[39m\u001b[38;5;124m\"\u001b[39m\u001b[38;5;241m.\u001b[39mjoin(result_password)\n\u001b[0;32m     41\u001b[0m file \u001b[38;5;241m=\u001b[39m \u001b[38;5;28mopen\u001b[39m(\u001b[38;5;124m\"\u001b[39m\u001b[38;5;124mD:\u001b[39m\u001b[38;5;124m\\\u001b[39m\u001b[38;5;124mProg\u001b[39m\u001b[38;5;124m\\\u001b[39m\u001b[38;5;124mDicks\u001b[39m\u001b[38;5;124m\\\u001b[39m\u001b[38;5;124mpasswords.txt\u001b[39m\u001b[38;5;124m\"\u001b[39m, \u001b[38;5;124m\"\u001b[39m\u001b[38;5;124ma\u001b[39m\u001b[38;5;124m\"\u001b[39m)\n\u001b[1;32m---> 42\u001b[0m \u001b[43mfile\u001b[49m\u001b[38;5;241;43m.\u001b[39;49m\u001b[43mwrite\u001b[49m\u001b[43m \u001b[49m\u001b[43m(\u001b[49m\u001b[43mresult_password1\u001b[49m\u001b[43m)\u001b[49m\n\u001b[0;32m     43\u001b[0m file\u001b[38;5;241m.\u001b[39mclose()\n\u001b[0;32m     45\u001b[0m \u001b[38;5;28;01mfor\u001b[39;00m i, pwd \u001b[38;5;129;01min\u001b[39;00m \u001b[38;5;28menumerate\u001b[39m(result_password, start\u001b[38;5;241m=\u001b[39m\u001b[38;5;241m1\u001b[39m):\n",
      "File \u001b[1;32mc:\\Users\\derka\\AppData\\Local\\Programs\\Python\\Python312\\Lib\\encodings\\cp1251.py:19\u001b[0m, in \u001b[0;36mIncrementalEncoder.encode\u001b[1;34m(self, input, final)\u001b[0m\n\u001b[0;32m     18\u001b[0m \u001b[38;5;28;01mdef\u001b[39;00m \u001b[38;5;21mencode\u001b[39m(\u001b[38;5;28mself\u001b[39m, \u001b[38;5;28minput\u001b[39m, final\u001b[38;5;241m=\u001b[39m\u001b[38;5;28;01mFalse\u001b[39;00m):\n\u001b[1;32m---> 19\u001b[0m     \u001b[38;5;28;01mreturn\u001b[39;00m \u001b[43mcodecs\u001b[49m\u001b[38;5;241;43m.\u001b[39;49m\u001b[43mcharmap_encode\u001b[49m\u001b[43m(\u001b[49m\u001b[38;5;28;43minput\u001b[39;49m\u001b[43m,\u001b[49m\u001b[38;5;28;43mself\u001b[39;49m\u001b[38;5;241;43m.\u001b[39;49m\u001b[43merrors\u001b[49m\u001b[43m,\u001b[49m\u001b[43mencoding_table\u001b[49m\u001b[43m)\u001b[49m[\u001b[38;5;241m0\u001b[39m]\n",
      "\u001b[1;31mUnicodeEncodeError\u001b[0m: 'charmap' codec can't encode character '\\U0001f37a' in position 10: character maps to <undefined>"
     ]
    }
   ],
   "source": [
    "import random\n",
    "\n",
    "count_password = input(\"Введите количество паролей:\")\n",
    "length_password = input(\"Введите длину паролей:\")\n",
    "count_spec = input(\"Введите количество специальных символов:\")\n",
    "count_word_up = input(\"Введите количество заглавных букв:\")\n",
    "count_word_down = input(\"Введите количество прописных букв:\")\n",
    "count_number = input(\"Введите количество чисел:\")\n",
    "slovo = input(\"Введите ваше кодовое слово:\")\n",
    "pivo = \"🍺\"\n",
    "count_password_ch = 1\n",
    "result_password = []\n",
    "password = []\n",
    "\n",
    "\n",
    "for _ in range(int(count_password)):\n",
    "    random_num = random.choices(\"1234567890\", k=int(count_number))\n",
    "    random_spec = random.choices(\"`~!@#$%^&*_+=-№;:?|<>.\", k=int(count_spec))\n",
    "    random_word_up = random.choices(\"QWERTYUIOPLKJHGFDSAZXCVBNMЁЙЦУКЕНГШЩЗХЪЭЖДЛОРПАВЫФЯЧСМИТЬБЮ\", k=int(count_word_up))\n",
    "    random_word_down = random.choices(\"qwertyuioplkjhgfdsazxcvbnmёйцукенгшщзхъэждлорпавыфячсмитьбю\", k=int(count_word_down))\n",
    "\n",
    "    password_chars = random_num+random_spec+random_word_up+random_word_down\n",
    "    random.shuffle(password_chars)\n",
    "    cut = int(length_password) - 1 - len(slovo)\n",
    "    password = ''.join(password_chars)[:cut]\n",
    "    password += pivo + slovo\n",
    "    reshav = list(password)\n",
    "    random.shuffle(reshav)\n",
    "    password = ''.join(reshav)\n",
    "    \n",
    "\n",
    "    while len(password) < int(length_password):\n",
    "        password += random.choice(\"1234567890`~!@#$%^&*_+=-№;:?|<>.\" +\n",
    "                                   \"QWERTYUIOPLKJHGFDSAZXCVBNMЁЙЦУКЕНГШЩЗХЪЭЖДЛОРПАВЫФЯЧСМИТЬБЮ\" +\n",
    "                                   \"qwertyuioplkjhgfdsazxcvbnmёйцукенгшщзхъэждлорпавыфячсмитьбю\")\n",
    "\n",
    "\n",
    "    result_password.append(password)\n",
    "\n",
    "for i, pwd in enumerate(result_password, start=1):\n",
    "    print(f\"Пароль {i}: {pwd}\")"
   ]
  }
 ],
 "metadata": {
  "kernelspec": {
   "display_name": "Python 3",
   "language": "python",
   "name": "python3"
  },
  "language_info": {
   "codemirror_mode": {
    "name": "ipython",
    "version": 3
   },
   "file_extension": ".py",
   "mimetype": "text/x-python",
   "name": "python",
   "nbconvert_exporter": "python",
   "pygments_lexer": "ipython3",
   "version": "3.12.4"
  }
 },
 "nbformat": 4,
 "nbformat_minor": 2
}
