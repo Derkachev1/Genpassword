{
 "cells": [
  {
   "cell_type": "code",
   "execution_count": 13,
   "metadata": {},
   "outputs": [
    {
     "name": "stdout",
     "output_type": "stream",
     "text": [
      "Car Honda Accord is going\n",
      "Electric car Zeekr 001 is going\n",
      "Gas car Lada Vesta CNG is going\n"
     ]
    }
   ],
   "source": [
    "class Car:\n",
    "    def __init__(self, brand, model, year):\n",
    "        self.brand = brand\n",
    "        self.model = model\n",
    "        self.year = year\n",
    "    \n",
    "    def go_car(self):\n",
    "        print(f\"Car {self.brand} {self.model} is going\")\n",
    "\n",
    "    def stop_car(self):\n",
    "        print(f\"Car {self.brand} {self.model} is stop\")\n",
    "    \n",
    "class ElectricCar(Car):\n",
    "    def __init__(self, brand, model, year, battery_capacity):\n",
    "        super().__init__(brand, model, year)\n",
    "        self.battery_capacity = battery_capacity\n",
    "\n",
    "    def go_electric_car(self):\n",
    "        print(f\"Electric car {self.brand} {self.model} is going\")\n",
    "\n",
    "    def stop_electric_car(self):\n",
    "        print(f\"Electric car {self.brand} {self.model} is stop\")\n",
    "\n",
    "class GasCar(Car):\n",
    "    def __init__(self, brand, model, year, gas_value):\n",
    "        super().__init__(brand, model, year)\n",
    "        self.gas_value = gas_value\n",
    "\n",
    "    def go_gas_car(self):\n",
    "        print(f\"Gas car {self.brand} {self.model} is going\")\n",
    "\n",
    "    def stop_gas_car(self):\n",
    "        print(f\"Gas car {self.brand} {self.model} is stop\")\n",
    "\n",
    "benz_car = Car(\"Honda\", \"Accord\", 2018)\n",
    "el_car = ElectricCar(\"Zeekr\", \"001\", 2023, 100)\n",
    "gaz_car = GasCar(\"Lada\",\"Vesta CNG\", 2018, 190)\n",
    "\n",
    "benz_car.go_car()\n",
    "el_car.go_electric_car()\n",
    "gaz_car.go_gas_car()"
   ]
  },
  {
   "cell_type": "code",
   "execution_count": 18,
   "metadata": {},
   "outputs": [
    {
     "name": "stdout",
     "output_type": "stream",
     "text": [
      "Виктор На кассе 45000\n",
      "Виктор, управляет ['Alice Developer 80000', 'Bob Designer 75000']\n"
     ]
    }
   ],
   "source": [
    "class Employee:\n",
    "    def __init__(self, name, position, salary):\n",
    "        self.name = name\n",
    "        self.position = position\n",
    "        self.salary = salary\n",
    "\n",
    "    def get_info(self):\n",
    "        return(f\"{self.name} {self.position} {self.salary}\")\n",
    "\n",
    "class Manager(Employee):\n",
    "    def __init__(self, name, position, salary,team=None):\n",
    "        super().__init__(name, position, salary)\n",
    "        self.team = team if team is not None else []\n",
    "\n",
    "    def add_employee(self, employee):\n",
    "        self.team.append(employee)\n",
    "\n",
    "    def full_info(self):\n",
    "        return(f\"{self.name}, управляет {[emplow.get_info() for emplow in self.team]}\")\n",
    "\n",
    "employee1 = Employee(\"Alice\", \"Developer\", 80000)\n",
    "employee2 = Employee(\"Bob\", \"Designer\", 75000)\n",
    "manager = Manager(\"Виктор\", \"На кассе\", 45000)\n",
    "manager.add_employee(employee1)\n",
    "manager.add_employee(employee2)\n",
    "\n",
    "print(manager.get_info())\n",
    "print(manager.full_info())\n",
    "\n"
   ]
  },
  {
   "cell_type": "code",
   "execution_count": 22,
   "metadata": {},
   "outputs": [
    {
     "name": "stdout",
     "output_type": "stream",
     "text": [
      "<__main__.Library object at 0x0000023321E79EB0>\n",
      "[]\n"
     ]
    }
   ],
   "source": [
    "class Book:\n",
    "    def __init__(self, title, author, year):\n",
    "        self.title = title\n",
    "        self.author = author\n",
    "        self.year = year\n",
    "   \n",
    "    def get_ifo_of_book(self):\n",
    "        return(f\"{self.title} {self.author} {self.year}\")\n",
    "    \n",
    "class Library:\n",
    "    def __init__(self):\n",
    "        self.books_list = []\n",
    "\n",
    "    def add_book(self, book):\n",
    "        self.books_list.append(book)\n",
    "\n",
    "    def rem_book(self, title):\n",
    "        self.books_list = [book for book in self.books_list if book.title != title]\n",
    "\n",
    "    def search_book_of_title(self, key_word):\n",
    "        list_words = []\n",
    "        for i in self.books_list:\n",
    "            if key_word.lower() in i.title.lower() or key_word.lower() in i.author.lower():\n",
    "                list_words.append(i.get_ifo_of_book())\n",
    "        return(list_words)\n",
    "lib = Library()\n",
    "book1 = Book(\"ABC\", \"Гей\", 2003)\n",
    "book2 = Book(\"Fuck\", \"Паша)\", 1997)\n",
    "lib.add_book(book1)\n",
    "lib.add_book(book2)\n",
    "lib.rem_book(\"ABC\")\n",
    "print(lib)\n",
    "print(lib.search_book_of_title(\"ABC\"))"
   ]
  },
  {
   "cell_type": "code",
   "execution_count": 33,
   "metadata": {},
   "outputs": [
    {
     "name": "stdout",
     "output_type": "stream",
     "text": [
      "[]\n"
     ]
    }
   ],
   "source": [
    "class Contact:\n",
    "    def __init__(self, name, phone_number, email):\n",
    "        self.name = name\n",
    "        self.phone_number = phone_number\n",
    "        self.email = email\n",
    "\n",
    "    def get_ifo_of_konk(self):\n",
    "        return(f\"{self.name} {self.phone_number} {self.email}\")\n",
    "    \n",
    "class PhoneBook:\n",
    "    def __init__(self):\n",
    "        self.phone_list = []\n",
    "\n",
    "    def add_number(self, number):\n",
    "        self.phone_list.append(number)\n",
    "\n",
    "    def rem_number(self, name):\n",
    "        self.phone_list = [number for number in self.phone_list if number.name != name]\n",
    "\n",
    "    def search_number(self, key_word):\n",
    "        list_words = []\n",
    "        for i in self.phone_list:\n",
    "          #  if key_word == str:\n",
    "            if key_word.lower() in i.name.lower():\n",
    "                list_words.append(i.get_ifo_of_konk())\n",
    "        #    else:\n",
    "         #       if key_word() in i.phone_number():\n",
    "         #           list_words.append(i.get_ifo_of_konk())\n",
    "        return(list_words)\n",
    "    \n",
    "PhBo = PhoneBook()\n",
    "number1 = Contact(\"Олег\", \"89185432317\", \"oled228@mail.ru\")\n",
    "number2 = Contact(\"Ашот\", \"89624447721\", \"alphamale12@mail.ru\")\n",
    "PhBo.add_number(number1)\n",
    "PhBo.add_number(number2)\n",
    "PhBo.rem_number(\"Ашот\")\n",
    "print(PhBo.search_number(\"Ашот\"))"
   ]
  }
 ],
 "metadata": {
  "kernelspec": {
   "display_name": "Python 3",
   "language": "python",
   "name": "python3"
  },
  "language_info": {
   "codemirror_mode": {
    "name": "ipython",
    "version": 3
   },
   "file_extension": ".py",
   "mimetype": "text/x-python",
   "name": "python",
   "nbconvert_exporter": "python",
   "pygments_lexer": "ipython3",
   "version": "3.12.4"
  }
 },
 "nbformat": 4,
 "nbformat_minor": 2
}
