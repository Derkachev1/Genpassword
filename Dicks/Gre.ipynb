{
 "cells": [
  {
   "cell_type": "code",
   "execution_count": 34,
   "metadata": {},
   "outputs": [
    {
     "name": "stdout",
     "output_type": "stream",
     "text": [
      "0\n"
     ]
    }
   ],
   "source": [
    "numbers = []\n",
    "t = 0\n",
    "if numbers == []:\n",
    "    print(t)\n",
    "else:\n",
    "    for i in numbers:\n",
    "        t += i\n",
    "    print(t)\n",
    "\n"
   ]
  },
  {
   "cell_type": "code",
   "execution_count": 44,
   "metadata": {},
   "outputs": [
    {
     "name": "stdout",
     "output_type": "stream",
     "text": [
      "22791\n"
     ]
    }
   ],
   "source": [
    "num = 213\n",
    "count = 0\n",
    "for i in range(0, num+1):\n",
    "    count += i\n",
    "print(count)"
   ]
  },
  {
   "cell_type": "code",
   "execution_count": 45,
   "metadata": {},
   "outputs": [
    {
     "name": "stdout",
     "output_type": "stream",
     "text": [
      "1.0\n"
     ]
    }
   ],
   "source": [
    "i = 2\n",
    "i = i*2\n",
    "t = i\n",
    "e = t / i\n",
    "print(e)"
   ]
  },
  {
   "cell_type": "code",
   "execution_count": null,
   "metadata": {},
   "outputs": [],
   "source": [
    "p1 = ()\n",
    "p2 = ()\n",
    "if p1 == ('rock') and p2 == ('scissors'):\n",
    "    print(\"Player 1 won!\")\n",
    "elif p1 == ('scissors') and p2 == ('rock'):\n",
    "    print(\"Player 2 won!\")\n",
    "elif p1 == ('scissors') and p2 == ('paper'):\n",
    "    print(\"Player 1 won!\")\n",
    "elif p1 == ('paper') and p2 == ('scissors'):\n",
    "    print(\"Player 2 won!\")\n",
    "elif p1 == ('paper') and p2 == ('rock'):\n",
    "    print(\"Player 1 won!\")\n",
    "elif p1 == ('rock') and p2 == ('paper'):\n",
    "    print(\"Player 2 won!\")\n",
    "elif p1 == ('rock') and p2 == ('rock'):\n",
    "    print(\"Draw!\")\n",
    "elif p1 == ('paper') and p2 == ('paper'):\n",
    "    print(\"Draw!\")\n",
    "elif p1 == ('scissors') and p2 == ('scissors'):\n",
    "    print(\"Draw!\")"
   ]
  },
  {
   "cell_type": "code",
   "execution_count": null,
   "metadata": {},
   "outputs": [],
   "source": [
    "def simple_multiplication(number) :\n",
    "    if number % 2 == 0:\n",
    "        number *= 8\n",
    "    else:\n",
    "        number *= 9\n",
    "    return(number)"
   ]
  },
  {
   "cell_type": "code",
   "execution_count": 52,
   "metadata": {},
   "outputs": [
    {
     "name": "stdout",
     "output_type": "stream",
     "text": [
      "1sheep... 2sheep... 3sheep... \n"
     ]
    }
   ],
   "source": [
    "n = 3\n",
    "ro = \"\"\n",
    "sleep = \"sheep...\"\n",
    "for i in range(1, n + 1):\n",
    "    t = f\"{i} {sleep}\"\n",
    "    ro += t\n",
    "print(ro)"
   ]
  },
  {
   "cell_type": "code",
   "execution_count": 59,
   "metadata": {},
   "outputs": [
    {
     "name": "stdout",
     "output_type": "stream",
     "text": [
      "True\n"
     ]
    }
   ],
   "source": [
    "class_points = [100, 40, 34, 57, 29, 72, 57, 88]\n",
    "your_points = 75\n",
    "len_class = len(class_points)\n",
    "sum_class = sum(class_points)\n",
    "sred_class = sum_class/len_class\n",
    "if your_points > sred_class:\n",
    "    print(True)\n",
    "else:\n",
    "    print(False)\n"
   ]
  },
  {
   "cell_type": "code",
   "execution_count": 62,
   "metadata": {},
   "outputs": [
    {
     "name": "stdout",
     "output_type": "stream",
     "text": [
      "2190\n"
     ]
    }
   ],
   "source": [
    "d = 56\n",
    "if d == 1 or d == 2:\n",
    "    d=d*40\n",
    "elif d==3 or d == 4 or d == 5 or d == 6:\n",
    "    d=d*40-20\n",
    "elif d==7 or d > 7:\n",
    "    d=d*40-50\n",
    "print(d)"
   ]
  },
  {
   "cell_type": "code",
   "execution_count": null,
   "metadata": {},
   "outputs": [],
   "source": [
    "distance_to_pump = 50\n",
    "mpg = 25\n",
    "fuel_left = 2\n",
    "raz = fuel_left*mpg\n",
    "if raz >= distance_to_pump:\n",
    "    print(True)\n",
    "else:\n",
    "    print(False)"
   ]
  },
  {
   "cell_type": "code",
   "execution_count": 101,
   "metadata": {},
   "outputs": [
    {
     "name": "stdout",
     "output_type": "stream",
     "text": [
      "<class 'int'> 4442211\n"
     ]
    }
   ],
   "source": [
    "num = 1424124\n",
    "str_num = str(num)\n",
    "list_num = list(str_num)\n",
    "sort_num = list_num.sort()\n",
    "reverse_num = list_num.reverse()\n",
    "ro = \"\".join(map(str, list_num))\n",
    "ro = int(ro)\n",
    "#for i in list_num:\n",
    "    #ro += list_num\n",
    "print(type(ro), ro)\n",
    "#str_num1 = str(list_num)\n",
    "#str_num2 = set(str_num1)\n",
    "#int_num = str_num1.replace(\",\", \"\")\n",
    "#int_num1 = int(int_num)\n",
    "#print (type(str_num2), str_num2)"
   ]
  },
  {
   "cell_type": "code",
   "execution_count": 107,
   "metadata": {},
   "outputs": [
    {
     "name": "stdout",
     "output_type": "stream",
     "text": [
      "1\n"
     ]
    }
   ],
   "source": [
    "a = 0\n",
    "b = 1\n",
    "c = a+b\n",
    "c = bin(c)\n",
    "print(c[2:])\n"
   ]
  },
  {
   "cell_type": "code",
   "execution_count": 111,
   "metadata": {},
   "outputs": [
    {
     "name": "stdout",
     "output_type": "stream",
     "text": [
      "False\n"
     ]
    }
   ],
   "source": [
    "text = \"samurai\"\n",
    "ending = \"ai\"\n",
    "c = len(ending)\n",
    "a == text[-c:]\n",
    "if a == ending:\n",
    "    print(True)\n",
    "else:\n",
    "    print(False)\n"
   ]
  },
  {
   "cell_type": "code",
   "execution_count": 117,
   "metadata": {},
   "outputs": [
    {
     "name": "stdout",
     "output_type": "stream",
     "text": [
      "True\n"
     ]
    }
   ],
   "source": [
    "string = \"ab\"\n",
    "string = string.lower()\n",
    "c= list(string)\n",
    "y = set(string)\n",
    "if len(c) == len(y):\n",
    "    print(True)\n",
    "else:\n",
    "    print(False)"
   ]
  },
  {
   "cell_type": "code",
   "execution_count": 125,
   "metadata": {},
   "outputs": [
    {
     "ename": "AttributeError",
     "evalue": "'list' object has no attribute 'array'",
     "output_type": "error",
     "traceback": [
      "\u001b[1;31m---------------------------------------------------------------------------\u001b[0m",
      "\u001b[1;31mAttributeError\u001b[0m                            Traceback (most recent call last)",
      "Cell \u001b[1;32mIn[125], line 3\u001b[0m\n\u001b[0;32m      1\u001b[0m haystack \u001b[38;5;241m=\u001b[39m [\u001b[38;5;124m'\u001b[39m\u001b[38;5;124m3\u001b[39m\u001b[38;5;124m'\u001b[39m, \u001b[38;5;124m'\u001b[39m\u001b[38;5;124m123124234\u001b[39m\u001b[38;5;124m'\u001b[39m, \u001b[38;5;28;01mNone\u001b[39;00m, \u001b[38;5;124m'\u001b[39m\u001b[38;5;124mneedle\u001b[39m\u001b[38;5;124m'\u001b[39m, \u001b[38;5;124m'\u001b[39m\u001b[38;5;124mworld\u001b[39m\u001b[38;5;124m'\u001b[39m, \u001b[38;5;124m'\u001b[39m\u001b[38;5;124mhay\u001b[39m\u001b[38;5;124m'\u001b[39m, \u001b[38;5;241m2\u001b[39m, \u001b[38;5;124m'\u001b[39m\u001b[38;5;124m3\u001b[39m\u001b[38;5;124m'\u001b[39m, \u001b[38;5;28;01mTrue\u001b[39;00m, \u001b[38;5;28;01mFalse\u001b[39;00m]\n\u001b[0;32m      2\u001b[0m \u001b[38;5;28;01mimport\u001b[39;00m \u001b[38;5;21;01marray\u001b[39;00m\n\u001b[1;32m----> 3\u001b[0m my_array \u001b[38;5;241m=\u001b[39m \u001b[43mhaystack\u001b[49m\u001b[38;5;241;43m.\u001b[39;49m\u001b[43marray\u001b[49m()\n\u001b[0;32m      4\u001b[0m my_array1 \u001b[38;5;241m=\u001b[39m my_array\u001b[38;5;241m.\u001b[39mappend()\n\u001b[0;32m      5\u001b[0m index_needle \u001b[38;5;241m=\u001b[39m my_array1\u001b[38;5;241m.\u001b[39mindex(\u001b[38;5;124m'\u001b[39m\u001b[38;5;124mneedle\u001b[39m\u001b[38;5;124m'\u001b[39m)\n",
      "\u001b[1;31mAttributeError\u001b[0m: 'list' object has no attribute 'array'"
     ]
    }
   ],
   "source": [
    "haystack = ['3', '123124234', None, 'needle', 'world', 'hay', 2, '3', True, False]\n",
    "import array\n",
    "my_array = haystack.array()\n",
    "my_array1 = my_array.append()\n",
    "index_needle = my_array1.index('needle')\n",
    "print(f'{\"found the needle at position\"}{index_needle}')"
   ]
  },
  {
   "cell_type": "code",
   "execution_count": 126,
   "metadata": {},
   "outputs": [
    {
     "name": "stdout",
     "output_type": "stream",
     "text": [
      "found the needle at position3\n"
     ]
    }
   ],
   "source": [
    "haystack = ['3', '123124234', None, 'needle', 'world', 'hay', 2, '3', True, False]\n",
    "if 'needle' in haystack:\n",
    "    index_needle = haystack.index('needle')\n",
    "print(f'{\"found the needle at position\"} {index_needle}')"
   ]
  },
  {
   "cell_type": "code",
   "execution_count": 154,
   "metadata": {},
   "outputs": [
    {
     "name": "stdout",
     "output_type": "stream",
     "text": [
      "\n",
      "\n",
      "\n",
      "[2, 4, 6]\n"
     ]
    }
   ],
   "source": [
    "a = [1, 2, 3]\n",
    "list = []\n",
    "for i in a:\n",
    "    print()\n",
    "    b=i*2\n",
    "    list.append(b)\n",
    "print(list)"
   ]
  },
  {
   "cell_type": "code",
   "execution_count": 139,
   "metadata": {},
   "outputs": [
    {
     "name": "stdout",
     "output_type": "stream",
     "text": [
      "[1, 2, 3, 1, 2, 3]\n"
     ]
    }
   ],
   "source": [
    "a = [1, 2, 3]\n",
    "copy_number = a.copy()*2\n",
    "print(copy_number)"
   ]
  },
  {
   "cell_type": "code",
   "execution_count": 163,
   "metadata": {},
   "outputs": [
    {
     "ename": "TypeError",
     "evalue": "'list' object cannot be interpreted as an integer",
     "output_type": "error",
     "traceback": [
      "\u001b[1;31m---------------------------------------------------------------------------\u001b[0m",
      "\u001b[1;31mTypeError\u001b[0m                                 Traceback (most recent call last)",
      "Cell \u001b[1;32mIn[163], line 8\u001b[0m\n\u001b[0;32m      1\u001b[0m sheep \u001b[38;5;241m=\u001b[39m [\u001b[38;5;28;01mTrue\u001b[39;00m,  \u001b[38;5;28;01mTrue\u001b[39;00m,  \u001b[38;5;28;01mTrue\u001b[39;00m,  \u001b[38;5;28;01mFalse\u001b[39;00m,\n\u001b[0;32m      2\u001b[0m   \u001b[38;5;28;01mTrue\u001b[39;00m,  \u001b[38;5;28;01mTrue\u001b[39;00m,  \u001b[38;5;28;01mTrue\u001b[39;00m,  \u001b[38;5;28;01mTrue\u001b[39;00m ,\n\u001b[0;32m      3\u001b[0m   \u001b[38;5;28;01mTrue\u001b[39;00m,  \u001b[38;5;28;01mFalse\u001b[39;00m, \u001b[38;5;28;01mTrue\u001b[39;00m,  \u001b[38;5;28;01mFalse\u001b[39;00m,\n\u001b[0;32m      4\u001b[0m   \u001b[38;5;28;01mTrue\u001b[39;00m,  \u001b[38;5;28;01mFalse\u001b[39;00m, \u001b[38;5;28;01mFalse\u001b[39;00m, \u001b[38;5;28;01mTrue\u001b[39;00m ,\n\u001b[0;32m      5\u001b[0m   \u001b[38;5;28;01mTrue\u001b[39;00m,  \u001b[38;5;28;01mTrue\u001b[39;00m,  \u001b[38;5;28;01mTrue\u001b[39;00m,  \u001b[38;5;28;01mTrue\u001b[39;00m ,\n\u001b[0;32m      6\u001b[0m   \u001b[38;5;28;01mFalse\u001b[39;00m, \u001b[38;5;28;01mFalse\u001b[39;00m, \u001b[38;5;28;01mTrue\u001b[39;00m,  \u001b[38;5;28;01mTrue\u001b[39;00m]\n\u001b[0;32m      7\u001b[0m count \u001b[38;5;241m=\u001b[39m \u001b[38;5;241m0\u001b[39m\n\u001b[1;32m----> 8\u001b[0m \u001b[38;5;28;01mfor\u001b[39;00m i \u001b[38;5;129;01min\u001b[39;00m \u001b[38;5;28;43mrange\u001b[39;49m\u001b[43m(\u001b[49m\u001b[43msheep\u001b[49m\u001b[43m)\u001b[49m:\n\u001b[0;32m      9\u001b[0m     \u001b[38;5;28;01mif\u001b[39;00m \u001b[38;5;28;01mTrue\u001b[39;00m \u001b[38;5;129;01min\u001b[39;00m sheep:\n\u001b[0;32m     10\u001b[0m         count \u001b[38;5;241m+\u001b[39m\u001b[38;5;241m=\u001b[39m \u001b[38;5;241m1\u001b[39m\n",
      "\u001b[1;31mTypeError\u001b[0m: 'list' object cannot be interpreted as an integer"
     ]
    }
   ],
   "source": [
    "sheep = [True,  True,  True,  False,\n",
    "  True,  True,  True,  True ,\n",
    "  True,  False, True,  False,\n",
    "  True,  False, False, True ,\n",
    "  True,  True,  True,  True ,\n",
    "  False, False, True,  True]\n",
    "count = 0\n",
    "for i in range(sheep):\n",
    "    if True in sheep:\n",
    "        count += 1\n",
    "    else:\n",
    "        print(count)"
   ]
  },
  {
   "cell_type": "code",
   "execution_count": 14,
   "metadata": {},
   "outputs": [
    {
     "name": "stdout",
     "output_type": "stream",
     "text": [
      "['Ryan', 'Mark']\n"
     ]
    }
   ],
   "source": [
    "x = [\"Ryan\", \"Kieran\", \"Mark\",]\n",
    "list = []\n",
    "for i in x:\n",
    "    if len(i) == 4:\n",
    "        list.append(i)\n",
    "print(list)"
   ]
  },
  {
   "cell_type": "code",
   "execution_count": 17,
   "metadata": {},
   "outputs": [
    {
     "name": "stdout",
     "output_type": "stream",
     "text": [
      "0\n"
     ]
    }
   ],
   "source": [
    "number = 0\n",
    "if number<0:\n",
    "    print(number)\n",
    "else:\n",
    "    print(-number)"
   ]
  },
  {
   "cell_type": "code",
   "execution_count": 2,
   "metadata": {},
   "outputs": [
    {
     "name": "stdout",
     "output_type": "stream",
     "text": [
      "<class 'list'> ['How', 'can', 'mirrors', 'be', 'real', 'if', 'our', 'eyes', \"aren't\", 'real']\n"
     ]
    }
   ],
   "source": [
    "string = \"How can mirrors be real if our eyes aren't real\"\n",
    "jou = string.split()\n",
    "for i in jou:\n",
    "    type1 = type(jou)\n",
    "#jou1 = jou.capitalize()\n",
    "print(type1,jou)"
   ]
  },
  {
   "cell_type": "code",
   "execution_count": 6,
   "metadata": {},
   "outputs": [
    {
     "name": "stdout",
     "output_type": "stream",
     "text": [
      "How Can Mirrors Be Real If Our Eyes Aren't Real\n"
     ]
    }
   ],
   "source": [
    "string = \"How can mirrors be real if our eyes aren't real\"\n",
    "jou = string.split()\n",
    "jou1 = list(jou)\n",
    "word = []\n",
    "#print(jou)\n",
    "for jou1 in jou:\n",
    "    jou2 = jou1.capitalize()\n",
    "    word.append(jou2)\n",
    "result = ' '.join(word)\n",
    "print(result)"
   ]
  },
  {
   "cell_type": "code",
   "execution_count": 10,
   "metadata": {},
   "outputs": [
    {
     "name": "stdout",
     "output_type": "stream",
     "text": [
      "['How', 'can', 'mirrors', 'be', 'real', 'if', 'our', 'eyes', \"aren't\", 'real']\n",
      "How\n",
      "can\n",
      "mirrors\n",
      "be\n",
      "real\n",
      "if\n",
      "our\n",
      "eyes\n",
      "aren't\n",
      "real\n",
      "real Real\n"
     ]
    }
   ],
   "source": [
    "string = \"How can mirrors be real if our eyes aren't real\"\n",
    "jou = string.split()\n",
    "word = []\n",
    "print(jou)\n",
    "for jou1 in jou:\n",
    "    jou2 = jou1.capitalize()\n",
    "print(jou1,jou2)"
   ]
  },
  {
   "cell_type": "code",
   "execution_count": 1,
   "metadata": {},
   "outputs": [
    {
     "name": "stdout",
     "output_type": "stream",
     "text": [
      "How Can Mirrors Be Real If Our Eyes Aren'T Real\n"
     ]
    }
   ],
   "source": [
    "string = \"How can mirrors be real if our eyes aren't real\"\n",
    "print(string.title())"
   ]
  },
  {
   "cell_type": "code",
   "execution_count": 2,
   "metadata": {},
   "outputs": [
    {
     "name": "stdout",
     "output_type": "stream",
     "text": [
      "hg8\n"
     ]
    }
   ],
   "source": [
    "s = \"ghg8s\"\n",
    "print(s[1:-1])"
   ]
  },
  {
   "cell_type": "code",
   "execution_count": 5,
   "metadata": {},
   "outputs": [
    {
     "name": "stdout",
     "output_type": "stream",
     "text": [
      "even\n"
     ]
    }
   ],
   "source": [
    "arr = [0,1,3]\n",
    "sum_arr = sum(arr)\n",
    "if sum_arr % 2 == 0:\n",
    "    print(\"even\")\n",
    "else:\n",
    "    print(\"odd\")"
   ]
  },
  {
   "cell_type": "code",
   "execution_count": 19,
   "metadata": {},
   "outputs": [
    {
     "name": "stdout",
     "output_type": "stream",
     "text": [
      "1.0\n"
     ]
    }
   ],
   "source": [
    "n = 1\n",
    "gut = []\n",
    "if n == 0:\n",
    "    print(0.00)\n",
    "elif n == 1:\n",
    "    print(1.00)\n",
    "else:\n",
    "    for i in range(1,n+1):\n",
    "        y = 1/(i*3-2)\n",
    "        gut.append(y)\n",
    "        gut_sum = sum(gut)\n",
    "        t = round(gut_sum, 2)\n",
    "    print(t)"
   ]
  },
  {
   "cell_type": "code",
   "execution_count": null,
   "metadata": {},
   "outputs": [],
   "source": [
    "\n",
    "bullets = 0\n",
    "dragons = 0\n",
    "if bullets/dragons >= 2:\n",
    "    print(True)\n",
    "elif bullets == 0 and dragons == 0:\n",
    "    print(False)\n",
    "else:\n",
    "    print(False)"
   ]
  },
  {
   "cell_type": "code",
   "execution_count": 56,
   "metadata": {},
   "outputs": [
    {
     "name": "stdout",
     "output_type": "stream",
     "text": [
      "Alex  , Jacob and Der likes this\n"
     ]
    }
   ],
   "source": [
    "names = [\"Alex\", \"Jacob\", \"Der\"]\n",
    "len_names = len(names)\n",
    "if len_names == 0:\n",
    "    print(\"no one likes this\")\n",
    "elif len_names == 1:\n",
    "    print(names[0],\"likes this\")\n",
    "elif len_names == 2:\n",
    "    print(names[0],\"and\",names[1],\"likes this\")\n",
    "elif len_names == 3:\n",
    "    print(names[0],\",\",names[1],\"and\",names[2],\"likes this\")\n",
    "elif len_names >= 4:\n",
    "    print(names[0],\",\",names[1],\"and\",len_names-2,\"likes this\")"
   ]
  },
  {
   "cell_type": "code",
   "execution_count": 1,
   "metadata": {},
   "outputs": [],
   "source": [
    "def likes(names):\n",
    "    len_names = len(names)\n",
    "    if len_names == 0:\n",
    "        return(\"no one likes this\")\n",
    "    elif len_names == 1:\n",
    "        return f\"{names[0]} likes this\"\n",
    "    elif len_names == 2:\n",
    "        return f\"{names[0]} and {names[1]} like this\"\n",
    "    elif len_names == 3:\n",
    "        return f\"{names[0]}, {names[1]} and {names[2]} like this\"\n",
    "    elif len_names >= 4:\n",
    "        return f\"{names[0]}, {names[1]} and {len_names-2} others like this\""
   ]
  },
  {
   "cell_type": "code",
   "execution_count": 11,
   "metadata": {},
   "outputs": [
    {
     "name": "stdout",
     "output_type": "stream",
     "text": [
      "0\n"
     ]
    }
   ],
   "source": [
    "number = \n",
    "if number < 0 or number > 0:\n",
    "    print(-number)\n",
    "elif number == 0:\n",
    "    print(number)\n"
   ]
  },
  {
   "cell_type": "code",
   "execution_count": 29,
   "metadata": {},
   "outputs": [
    {
     "name": "stdout",
     "output_type": "stream",
     "text": [
      "[1, 2]\n"
     ]
    }
   ],
   "source": [
    "l = [1,2,'a','b']\n",
    "l_list = []\n",
    "for i in l:\n",
    "    if  isinstance(i, int):\n",
    "        l_list.append(i)\n",
    "print(l_list)"
   ]
  },
  {
   "cell_type": "code",
   "execution_count": 30,
   "metadata": {},
   "outputs": [
    {
     "name": "stdout",
     "output_type": "stream",
     "text": [
      "hello world\n"
     ]
    }
   ],
   "source": [
    "words = [\"hello\", \"world\"]\n",
    "result = \" \".join(words)\n",
    "print (result)"
   ]
  },
  {
   "cell_type": "code",
   "execution_count": 6,
   "metadata": {},
   "outputs": [
    {
     "name": "stdout",
     "output_type": "stream",
     "text": [
      "[1, 2, 3]\n",
      "[1, 2, 3]\n"
     ]
    },
    {
     "data": {
      "text/plain": [
       "'3 1'"
      ]
     },
     "execution_count": 6,
     "metadata": {},
     "output_type": "execute_result"
    }
   ],
   "source": [
    "def high_and_low(numbers):\n",
    "    result = list(map(int, numbers.split()))\n",
    "    result.sort()\n",
    "    return f\"{result[-1]} {result[0]}\"\n",
    "\n",
    "high_and_low(\"1 2 3\")"
   ]
  },
  {
   "cell_type": "code",
   "execution_count": null,
   "metadata": {},
   "outputs": [],
   "source": [
    "signature = [1, 1, 1]\n",
    "n = 10\n",
    "list_34 = []\n",
    "signature_sum = sum(signature)\n",
    "for i in range(signature_sum,n):\n",
    "    print(i)\n",
    "    i = (i*2)-1\n",
    "    list_34.append(i)\n",
    "print(list_34)"
   ]
  },
  {
   "cell_type": "code",
   "execution_count": 20,
   "metadata": {},
   "outputs": [
    {
     "name": "stdout",
     "output_type": "stream",
     "text": [
      "['Open', 'Senior', 'Open', 'Senior']\n"
     ]
    }
   ],
   "source": [
    "data = [(45, 12),(55,21),(19, -2),(104, 20)]\n",
    "list_data = []\n",
    "for i in data:\n",
    "    if i[0] >= 55 and i[-1] > 7:\n",
    "        list_data.append(\"Senior\")\n",
    "    else:\n",
    "        list_data.append(\"Open\")\n",
    "print(list_data)"
   ]
  },
  {
   "cell_type": "code",
   "execution_count": 30,
   "metadata": {},
   "outputs": [
    {
     "ename": "SyntaxError",
     "evalue": "invalid syntax (2335079722.py, line 1)",
     "output_type": "error",
     "traceback": [
      "\u001b[1;36m  Cell \u001b[1;32mIn[30], line 1\u001b[1;36m\u001b[0m\n\u001b[1;33m    array1 = [121, 144, , 19, 161, 19, 144, 19, 11]\u001b[0m\n\u001b[1;37m                        ^\u001b[0m\n\u001b[1;31mSyntaxError\u001b[0m\u001b[1;31m:\u001b[0m invalid syntax\n"
     ]
    }
   ],
   "source": [
    "array1 = [121, 144, 19, 161, 19, 144, 19, 11]\n",
    "array2 = [11*11, 121*121, 144*144, 19*19, 161*161, 19*19, 144*144, 19*19]\n",
    "array3 = []\n",
    "for i in array1:\n",
    "    i = i**2\n",
    "    array3.append(i)\n",
    "if (None == array1) or (None == array2):\n",
    "    print(False)\n",
    "if sum(array2) == sum(array3):\n",
    "    print(True)\n",
    "else:\n",
    "    print(False)"
   ]
  },
  {
   "cell_type": "code",
   "execution_count": 51,
   "metadata": {},
   "outputs": [
    {
     "name": "stdout",
     "output_type": "stream",
     "text": [
      "[0, 0]\n"
     ]
    }
   ],
   "source": [
    "arr = []\n",
    "list_nume = []\n",
    "list_nume1 = []\n",
    "count = 0\n",
    "if (None == arr):\n",
    "    print([])\n",
    "for i in arr:\n",
    "    if i > 0:\n",
    "        count +=1\n",
    "    elif i < 0:\n",
    "        list_nume.append(i)\n",
    "sum_n = sum(list_nume)\n",
    "list_nume1.append(count)\n",
    "list_nume1.append(sum_n)\n",
    "print(list_nume1)\n"
   ]
  },
  {
   "cell_type": "code",
   "execution_count": 36,
   "metadata": {},
   "outputs": [
    {
     "name": "stdout",
     "output_type": "stream",
     "text": [
      "[0, 0]\n"
     ]
    }
   ],
   "source": [
    "arr = []\n",
    "list_nume = []\n",
    "list_nume1 = []\n",
    "count = 0\n",
    "\n",
    "for i in arr:\n",
    "    if i > 0:\n",
    "        count +=1\n",
    "    elif i < 0:\n",
    "        list_nume.append(i)\n",
    "\n",
    "sum_n = sum(list_nume)\n",
    "list_nume1.append(count)\n",
    "list_nume1.append(sum_n)\n",
    "if (None == arr):\n",
    "    print([])\n",
    "else:\n",
    "    print(list_nume1)"
   ]
  },
  {
   "cell_type": "code",
   "execution_count": 1,
   "metadata": {},
   "outputs": [
    {
     "name": "stdout",
     "output_type": "stream",
     "text": [
      "[]\n"
     ]
    }
   ],
   "source": [
    "arr = []\n",
    "list_nume = []\n",
    "list_nume1 = []\n",
    "count = 0\n",
    "if ([] == arr):\n",
    "    print([])\n",
    "else:\n",
    "    for i in arr:\n",
    "        if i > 0:\n",
    "            count +=1\n",
    "        elif i < 0:\n",
    "            list_nume.append(i)\n",
    "    sum_n = sum(list_nume)\n",
    "    list_nume1.append(count)\n",
    "    list_nume1.append(sum_n)\n",
    "    print(list_nume1)"
   ]
  },
  {
   "cell_type": "code",
   "execution_count": 2,
   "metadata": {},
   "outputs": [
    {
     "name": "stdout",
     "output_type": "stream",
     "text": [
      "6\n"
     ]
    }
   ],
   "source": [
    "arr = [1, 2, 3]\n",
    "l = 1\n",
    "for i in arr:\n",
    "    l = l*i\n",
    "print(l)"
   ]
  },
  {
   "cell_type": "code",
   "execution_count": null,
   "metadata": {},
   "outputs": [],
   "source": [
    "def paperwork(n, m):\n",
    "    if m>0 and n>0:\n",
    "        return(m*n)\n",
    "    else:\n",
    "        return(0)"
   ]
  },
  {
   "cell_type": "code",
   "execution_count": 4,
   "metadata": {},
   "outputs": [
    {
     "name": "stdout",
     "output_type": "stream",
     "text": [
      "10\n"
     ]
    }
   ],
   "source": [
    "p0 = 1500000\n",
    "percent = 2.5\n",
    "aug = 10000\n",
    "p = 2000000\n",
    "percent100 = percent*0.01\n",
    "pr = p0\n",
    "n = 0\n",
    "while pr < p:\n",
    "    pr = pr + pr * percent100 + aug\n",
    "    n += 1\n",
    "else:\n",
    "    print(n)"
   ]
  },
  {
   "cell_type": "code",
   "execution_count": 4,
   "metadata": {},
   "outputs": [
    {
     "name": "stdout",
     "output_type": "stream",
     "text": [
      "технология выполнения работ на посту то и ремонта автомобилей haval\n"
     ]
    }
   ],
   "source": [
    "fur = \"ТЕХНОЛОГИЯ ВЫПОЛНЕНИЯ РАБОТ НА ПОСТУ ТО И РЕМОНТА АВТОМОБИЛЕЙ HAVAL\"\n",
    "result = fur.lower()\n",
    "print(result)"
   ]
  },
  {
   "cell_type": "code",
   "execution_count": 5,
   "metadata": {},
   "outputs": [
    {
     "name": "stdout",
     "output_type": "stream",
     "text": [
      "man\n",
      "i\n",
      "need\n",
      "a\n",
      "taxi\n",
      "up\n",
      "to\n",
      "ubud\n"
     ]
    }
   ],
   "source": [
    "x = 'man i need a taxi up to ubud'\n",
    "x_1 = x.split()\n",
    "count = 0\n",
    "for i in x_1:\n",
    "    print(i)"
   ]
  },
  {
   "cell_type": "code",
   "execution_count": 31,
   "metadata": {},
   "outputs": [
    {
     "name": "stdout",
     "output_type": "stream",
     "text": [
      "[-1, 2, 3, -4, 5]\n"
     ]
    }
   ],
   "source": [
    "lst = [1,-2,-3,4,-5]\n",
    "lste = []\n",
    "if ([] == lst):\n",
    "    print(lst)\n",
    "else:\n",
    "    for i in lst:\n",
    "        lste.append(-i)\n",
    "    print(lste)"
   ]
  },
  {
   "cell_type": "code",
   "execution_count": 5,
   "metadata": {},
   "outputs": [
    {
     "name": "stdout",
     "output_type": "stream",
     "text": [
      "[]\n"
     ]
    }
   ],
   "source": [
    "numbers = []\n",
    "numbers_copy = numbers.copy()\n",
    "if (numbers == []):\n",
    "    print(numbers)\n",
    "else:\n",
    "    index_of_min = numbers.index(min(numbers))\n",
    "    numbers_copy.pop(index_of_min)\n",
    "    print(numbers_copy)"
   ]
  },
  {
   "cell_type": "code",
   "execution_count": 19,
   "metadata": {},
   "outputs": [
    {
     "name": "stdout",
     "output_type": "stream",
     "text": [
      "6\n"
     ]
    }
   ],
   "source": [
    "sentence = \"aeiouy\"\n",
    "sentence_split = sentence.replace(\"\",\" \")\n",
    "sentence_split1 = sentence_split.split()\n",
    "sumbols = [\"a\",\"e\",\"i\",\"o\",\"u\",\"y\"]\n",
    "count = 0\n",
    "for i in sentence_split1:\n",
    "    if i in sumbols:\n",
    "        count += 1\n",
    "print(count)"
   ]
  },
  {
   "cell_type": "code",
   "execution_count": 1,
   "metadata": {},
   "outputs": [
    {
     "name": "stdout",
     "output_type": "stream",
     "text": [
      "7 years, 246 days, 15 hours, 32 minuters and 47 seconds\n"
     ]
    }
   ],
   "source": [
    "seconds = 242062374\n",
    "if seconds == 0:\n",
    "    print(\"now\")\n",
    "else:\n",
    "    #seconds_of_year = seconds // 31536000\n",
    "    #hide_year = seconds_of_year // 4\n",
    "    #seconds_of_year1 = hide_year*31622400\n",
    "    seconds_of_year_new = (seconds) // 31535999\n",
    "    seconds_of_day = ((seconds - seconds_of_year_new)-seconds_of_year_new*31536000) // 86400\n",
    "    seconds_of_hour = (((seconds - seconds_of_year_new)-seconds_of_year_new*31536000)-seconds_of_day*86400) // 3600\n",
    "    seconds_of_min = ((((seconds - seconds_of_year_new)-seconds_of_year_new*31536000)-seconds_of_day*86400)-seconds_of_hour*3600) // 60\n",
    "    seconds_of_now = (((((seconds - seconds_of_year_new)-seconds_of_year_new*31536000)-seconds_of_day*86400)-seconds_of_hour*3600)-seconds_of_min*60)\n",
    "    print (f\"{seconds_of_year_new} years, {seconds_of_day} days, {seconds_of_hour} hours, {seconds_of_min} minuters and {seconds_of_now} seconds\")"
   ]
  },
  {
   "cell_type": "code",
   "execution_count": null,
   "metadata": {},
   "outputs": [],
   "source": [
    "seconds = 242062374\n",
    "if seconds == 0:\n",
    "    print(\"now\")\n",
    "else:\n",
    "    #seconds_of_year = seconds // 31536000\n",
    "    #hide_year = seconds_of_year // 4\n",
    "    #seconds_of_year1 = hide_year*31622400\n",
    "    seconds_of_year_new = (seconds) // 31535999\n",
    "    seconds_of_day = ((seconds - seconds_of_year_new)-seconds_of_year_new*31535999) // 86400\n",
    "    seconds_of_hour = (((seconds - seconds_of_year_new)-seconds_of_year_new*31535999)-seconds_of_day*86400) // 3600\n",
    "    seconds_of_min = ((((seconds - seconds_of_year_new)-seconds_of_year_new*31535999)-seconds_of_day*86400)-seconds_of_hour*3600) // 60\n",
    "    seconds_of_now = (((((seconds - seconds_of_year_new)-seconds_of_year_new*31535999)-seconds_of_day*86400)-seconds_of_hour*3600)-seconds_of_min*60)\n",
    "    if seconds_of_year_new == 0 and seconds_of_day == 0 and seconds_of_hour ==0 and seconds_of_min ==0 and seconds_of_now == 1:\n",
    "        print(\"1 second\")\n",
    "    elif seconds_of_year_new == 0 and seconds_of_day == 0 and seconds_of_hour ==0 and seconds_of_min ==0 and seconds_of_now == 1:\n",
    "        print (f\"{seconds_of_year_new} years, {seconds_of_day} days, {seconds_of_hour} hours, {seconds_of_min} minuters and {seconds_of_now} seconds\")"
   ]
  },
  {
   "cell_type": "code",
   "execution_count": 19,
   "metadata": {},
   "outputs": [
    {
     "name": "stdout",
     "output_type": "stream",
     "text": [
      "elbuod decaps sdrow\n"
     ]
    }
   ],
   "source": [
    "text = 'double  spaced  words'\n",
    "spi = text.split()\n",
    "li = []\n",
    "for i in spi:\n",
    "    li.append(i[::-1])\n",
    "    result = \" \".join(li)\n",
    "print(result)"
   ]
  },
  {
   "cell_type": "code",
   "execution_count": 32,
   "metadata": {},
   "outputs": [
    {
     "name": "stdout",
     "output_type": "stream",
     "text": [
      "True\n",
      "0 0 6 6\n"
     ]
    }
   ],
   "source": [
    "walk = ['w','e','w','e','w','e','w','e','w','e','w','e']\n",
    "count_n = 0\n",
    "count_s = 0\n",
    "count_w = 0\n",
    "count_e = 0\n",
    "for i in walk:\n",
    "    if 'n' in i:\n",
    "        count_n += 1\n",
    "    elif 's' in i:\n",
    "        count_s += 1\n",
    "    elif 'w' in i:\n",
    "        count_w += 1\n",
    "    elif 'e' in i:\n",
    "        count_e += 1\n",
    "if count_n == 1 or count_s == 1 or count_w == 1 or count_e == 1:\n",
    "    print(False)\n",
    "elif count_n == count_s or count_n == count_e or count_n == count_w or count_s == count_e or count_s == count_w or count_e == count_w:\n",
    "    print(True)\n",
    "print(count_n,count_s,count_w,count_e)"
   ]
  },
  {
   "cell_type": "code",
   "execution_count": 53,
   "metadata": {},
   "outputs": [
    {
     "name": "stdout",
     "output_type": "stream",
     "text": [
      "1 it\n",
      "2 wkppv\n",
      "3 ixoyx\n",
      "4 3452\n",
      "5 zzzzzzzzzzzz\n"
     ]
    }
   ],
   "source": [
    "strarr = [\"it\",\"wkppv\",\"ixoyx\", \"3452\", \"zzzzzzzzzzzz\"]\n",
    "k = 4\n",
    "count = 0 \n",
    "for i in strarr:\n",
    "    count += 1\n",
    "   # max_sl = max(len(strarr))\n",
    "    print (count, i)\n",
    "if k == 0 or k > count:\n",
    "    print(\"\") "
   ]
  },
  {
   "cell_type": "code",
   "execution_count": 72,
   "metadata": {},
   "outputs": [
    {
     "name": "stdout",
     "output_type": "stream",
     "text": [
      "144.0\n"
     ]
    }
   ],
   "source": [
    "sq = 121\n",
    "sqrt = sq**(1/2)\n",
    "tru = sqrt%1\n",
    "if tru != 0:\n",
    "    print(-1)\n",
    "else:\n",
    "    sqrt += 1\n",
    "    ans = sqrt**2\n",
    "    print(ans)"
   ]
  },
  {
   "cell_type": "code",
   "execution_count": 88,
   "metadata": {},
   "outputs": [
    {
     "name": "stdout",
     "output_type": "stream",
     "text": [
      "<class 'list'>\n",
      "<class 'list'>\n",
      "<class 'list'>\n"
     ]
    }
   ],
   "source": [
    "bus_stops = [[10,0],[3,5],[5,8]]\n",
    "in_bus = 0\n",
    "out_bus = 0\n",
    "for i in bus_stops:\n",
    "   # in_bus += int((i[:1]))\n",
    "   # out_bus += int((i[0:]))\n",
    "   # answ = in_bus - out_bus\n",
    "    print(type(i))"
   ]
  },
  {
   "cell_type": "code",
   "execution_count": 93,
   "metadata": {},
   "outputs": [
    {
     "name": "stdout",
     "output_type": "stream",
     "text": [
      "SSttrriinngg\n"
     ]
    }
   ],
   "source": [
    "s =\"String\"\n",
    "l = []\n",
    "for t in s:\n",
    "    l.append(t+t)\n",
    "    res = \"\".join(l)\n",
    "print(res)\n"
   ]
  },
  {
   "cell_type": "code",
   "execution_count": 97,
   "metadata": {},
   "outputs": [
    {
     "name": "stdout",
     "output_type": "stream",
     "text": [
      "0\n"
     ]
    }
   ],
   "source": [
    "arr = [-6, 20]\n",
    "if arr == [] or arr == None or len(arr)<3:\n",
    "    print(0)\n",
    "else:\n",
    "    max_arr = max(arr)\n",
    "    min_arr = min(arr)\n",
    "    sum_arr = sum(arr)\n",
    "    an = (sum_arr-max_arr)-min_arr\n",
    "    print(an)"
   ]
  },
  {
   "cell_type": "code",
   "execution_count": 108,
   "metadata": {},
   "outputs": [
    {
     "name": "stdout",
     "output_type": "stream",
     "text": [
      "[1, 1]\n"
     ]
    }
   ],
   "source": [
    "lst = [1]\n",
    "v = []\n",
    "c = []\n",
    "if len(lst) == 1:\n",
    "    max_lst1 = max(lst)\n",
    "    v.append(max_lst1)\n",
    "    v.append(max_lst1)\n",
    "    print(v)\n",
    "else:\n",
    "    max_lst = max(lst)\n",
    "    min_lst = min(lst)\n",
    "    c.append(min_lst)\n",
    "    c.append(max_lst)\n",
    "    print(c)\n"
   ]
  },
  {
   "cell_type": "code",
   "execution_count": 116,
   "metadata": {},
   "outputs": [
    {
     "name": "stdout",
     "output_type": "stream",
     "text": [
      "A\n"
     ]
    }
   ],
   "source": [
    "s1 = 95\n",
    "s2 = 90\n",
    "s3 = 93\n",
    "yy = []\n",
    "yy.append(s1)\n",
    "yy.append(s2)\n",
    "yy.append(s3)\n",
    "summ = sum(yy) \n",
    "aer = summ//3\n",
    "if 90<=aer<=100:\n",
    "    print(\"A\")\n",
    "elif 80<=aer<=90:\n",
    "    print(\"B\")  \n",
    "elif 70<=aer<=80:\n",
    "    print(\"C\")\n",
    "elif 60<=aer<=70:\n",
    "    print(\"D\")\n",
    "elif 0<=aer<=60:\n",
    "    print(\"F\")"
   ]
  },
  {
   "cell_type": "code",
   "execution_count": 137,
   "metadata": {},
   "outputs": [
    {
     "name": "stdout",
     "output_type": "stream",
     "text": [
      "8\n"
     ]
    }
   ],
   "source": [
    "n = 2\n",
    "ko = []\n",
    "f = n*(n-1)-1\n",
    "for h in range(1,n+1):\n",
    "    ko.append(f+(h*2))\n",
    "print(sum(ko))"
   ]
  },
  {
   "cell_type": "code",
   "execution_count": 13,
   "metadata": {},
   "outputs": [
    {
     "name": "stdout",
     "output_type": "stream",
     "text": [
      "[True, True, False, False, False, True, True]\n"
     ]
    }
   ],
   "source": [
    "my_list = [True, True, False, False, False, True, True]\n",
    "p = []\n",
    "for i in my_list:\n",
    "    if (my_list.index(i))%2 == 0:\n",
    "        p.append(i)\n",
    "print(p)"
   ]
  },
  {
   "cell_type": "code",
   "execution_count": 15,
   "metadata": {},
   "outputs": [
    {
     "name": "stdout",
     "output_type": "stream",
     "text": [
      "Underweight\n"
     ]
    }
   ],
   "source": [
    "weight = 1\n",
    "height = 1\n",
    "BMI = weight/(height**2)\n",
    "if BMI <= 18.5:\n",
    "    print(\"Underweight\")\n",
    "elif BMI <= 25.0:\n",
    "    print(\"Normal\")\n",
    "elif BMI <= 30.0:\n",
    "    print(\"Overweight\")\n",
    "elif BMI > 30.0:\n",
    "    print(\"Obese\")"
   ]
  },
  {
   "cell_type": "code",
   "execution_count": 20,
   "metadata": {},
   "outputs": [
    {
     "name": "stdout",
     "output_type": "stream",
     "text": [
      "Let's\n",
      "travel\n",
      "abroad\n",
      "shall\n",
      "we\n",
      "2\n"
     ]
    }
   ],
   "source": [
    "s = \"Let's travel abroad shall we\"\n",
    "lis = s.split()\n",
    "j =[]\n",
    "for i in lis:\n",
    "    de = len(i)\n",
    "    j.append(de)\n",
    "    im = min(j)\n",
    "    print(i)\n",
    "print(im)"
   ]
  },
  {
   "cell_type": "code",
   "execution_count": 21,
   "metadata": {},
   "outputs": [
    {
     "name": "stdout",
     "output_type": "stream",
     "text": [
      "0\n"
     ]
    }
   ],
   "source": [
    "dad_years_old = 0 \n",
    "son_years_old = 0\n",
    "ti = dad_years_old-son_years_old*2\n",
    "if ti < 0:\n",
    "    print(-ti)\n",
    "else:\n",
    "    print (ti)"
   ]
  },
  {
   "cell_type": "code",
   "execution_count": 29,
   "metadata": {},
   "outputs": [
    {
     "name": "stdout",
     "output_type": "stream",
     "text": [
      "[7, 5, 3, 2, 8, 5, 3, 2]\n"
     ]
    }
   ],
   "source": [
    "n = 23582357\n",
    "list = []\n",
    "n = str(n)\n",
    "for i in n:\n",
    "    list.append(int(i))\n",
    "list.reverse()\n",
    "print(list)"
   ]
  },
  {
   "cell_type": "code",
   "execution_count": 50,
   "metadata": {},
   "outputs": [
    {
     "ename": "TypeError",
     "evalue": "'list' object is not callable",
     "output_type": "error",
     "traceback": [
      "\u001b[1;31m---------------------------------------------------------------------------\u001b[0m",
      "\u001b[1;31mTypeError\u001b[0m                                 Traceback (most recent call last)",
      "Cell \u001b[1;32mIn[50], line 9\u001b[0m\n\u001b[0;32m      7\u001b[0m lis\u001b[38;5;241m.\u001b[39msort()\n\u001b[0;32m      8\u001b[0m g \u001b[38;5;241m=\u001b[39m \u001b[38;5;28mset\u001b[39m(lis)\n\u001b[1;32m----> 9\u001b[0m op \u001b[38;5;241m=\u001b[39m \u001b[38;5;28;43mlist\u001b[39;49m\u001b[43m(\u001b[49m\u001b[43mg\u001b[49m\u001b[43m)\u001b[49m\n\u001b[0;32m     10\u001b[0m op\u001b[38;5;241m.\u001b[39msort()\n\u001b[0;32m     11\u001b[0m re \u001b[38;5;241m=\u001b[39m \u001b[38;5;124m\"\u001b[39m\u001b[38;5;124m \u001b[39m\u001b[38;5;124m\"\u001b[39m\u001b[38;5;241m.\u001b[39mjoin(op)\n",
      "\u001b[1;31mTypeError\u001b[0m: 'list' object is not callable"
     ]
    }
   ],
   "source": [
    "a1 = \"aretheyhere\"\n",
    "a2 = \"yestheyarehere\"\n",
    "a3 = a1 + a2\n",
    "lis = []\n",
    "for i in a3:\n",
    "    lis.append(i)\n",
    "    lis.sort()\n",
    "    g = set(lis)\n",
    "    op = list(g)\n",
    "    op.sort()\n",
    "    re = \" \".join(op)\n",
    "    ret = re.replace(\" \",\"\")\n",
    "print(ret)"
   ]
  },
  {
   "cell_type": "code",
   "execution_count": 1,
   "metadata": {},
   "outputs": [
    {
     "name": "stdout",
     "output_type": "stream",
     "text": [
      "1\n"
     ]
    }
   ],
   "source": [
    "month = 3\n",
    "if 1<=month<=3:\n",
    "    print(1)\n",
    "elif 4<=month<=6:\n",
    "    print(2)\n",
    "elif 7<=month<=9:\n",
    "    print(3) \n",
    "elif 10<=month<=12:\n",
    "    print(4) "
   ]
  },
  {
   "cell_type": "code",
   "execution_count": 24,
   "metadata": {},
   "outputs": [
    {
     "name": "stdout",
     "output_type": "stream",
     "text": [
      "[81, 1, 1, 81]\n"
     ]
    }
   ],
   "source": [
    "num = 9119\n",
    "num = str(num)\n",
    "li = []\n",
    "for i in (num):\n",
    "    li.append(int(i)**2)\n",
    "    lid = str(li)\n",
    "print(lid)"
   ]
  },
  {
   "cell_type": "code",
   "execution_count": 27,
   "metadata": {},
   "outputs": [
    {
     "name": "stdout",
     "output_type": "stream",
     "text": [
      "811181\n"
     ]
    }
   ],
   "source": [
    "num = 9119\n",
    "num = str(num)\n",
    "t = \"\"\n",
    "for i in (num):\n",
    "    t+=str(int(i)**2)\n",
    "print(int(t))"
   ]
  },
  {
   "cell_type": "code",
   "execution_count": null,
   "metadata": {},
   "outputs": [],
   "source": []
  }
 ],
 "metadata": {
  "kernelspec": {
   "display_name": "Python 3",
   "language": "python",
   "name": "python3"
  },
  "language_info": {
   "codemirror_mode": {
    "name": "ipython",
    "version": 3
   },
   "file_extension": ".py",
   "mimetype": "text/x-python",
   "name": "python",
   "nbconvert_exporter": "python",
   "pygments_lexer": "ipython3",
   "version": "3.12.4"
  }
 },
 "nbformat": 4,
 "nbformat_minor": 2
}
